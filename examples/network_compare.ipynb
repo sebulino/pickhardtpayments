{
 "cells": [
  {
   "cell_type": "code",
   "execution_count": 539,
   "metadata": {
    "collapsed": true,
    "pycharm": {
     "name": "#%%\n"
    }
   },
   "outputs": [],
   "source": [
    "from pickhardtpayments.ChannelGraph import ChannelGraph\n",
    "from pickhardtpayments.UncertaintyNetwork import UncertaintyNetwork\n",
    "from pickhardtpayments.OracleLightningNetwork import OracleLightningNetwork\n",
    "from pickhardtpayments.SyncSimulatedPaymentSession import SyncSimulatedPaymentSession\n",
    "\n",
    "import ndjson"
   ]
  },
  {
   "cell_type": "code",
   "execution_count": 540,
   "outputs": [],
   "source": [
    "channel_graph = ChannelGraph(\"../channels.sample.json\")\n",
    "uncertainty_network = UncertaintyNetwork(channel_graph)\n",
    "oracle_lightning_network = OracleLightningNetwork(channel_graph)\n",
    "oracle_lightning_network_prior = OracleLightningNetwork(channel_graph)"
   ],
   "metadata": {
    "collapsed": false,
    "pycharm": {
     "name": "#%%\n"
    }
   }
  },
  {
   "cell_type": "code",
   "execution_count": 541,
   "outputs": [
    {
     "name": "stdout",
     "output_type": "stream",
     "text": [
      "{'A': 207500.0, 'B': 257500.0, 'C': 155000.0, 'D': 205000.0}\n"
     ]
    }
   ],
   "source": [
    "source_pre = {}\n",
    "for channel in oracle_lightning_network.network.edges:\n",
    "    if channel[0] not in source_pre.keys():\n",
    "        source_pre[channel[0]] = oracle_lightning_network.get_channel(channel[0], channel[1], channel[2]).actual_liquidity\n",
    "    else:\n",
    "        source_pre[channel[0]] += oracle_lightning_network.get_channel(channel[0], channel[1], channel[2]).actual_liquidity\n",
    "print(source_pre)"
   ],
   "metadata": {
    "collapsed": false,
    "pycharm": {
     "name": "#%%\n"
    }
   }
  },
  {
   "cell_type": "code",
   "execution_count": 542,
   "outputs": [],
   "source": [
    "payment_set = ndjson.load(open(\"./same_payments_small_graph.ndjson\", \"r\"))"
   ],
   "metadata": {
    "collapsed": false,
    "pycharm": {
     "name": "#%%\n"
    }
   }
  },
  {
   "cell_type": "code",
   "execution_count": 543,
   "outputs": [],
   "source": [
    "# init simulation\n",
    "c = 0\n",
    "successful_payments = 0\n",
    "failed_payments = 0\n",
    "payment_simulation = []\n",
    "\n",
    "# create new payment session - will later be moved before payment loop to simulate sequence of payments\n",
    "sim_session = SyncSimulatedPaymentSession(oracle_lightning_network, uncertainty_network, prune_network=False)"
   ],
   "metadata": {
    "collapsed": false,
    "pycharm": {
     "name": "#%%\n"
    }
   }
  },
  {
   "cell_type": "code",
   "execution_count": 544,
   "outputs": [
    {
     "name": "stdout",
     "output_type": "stream",
     "text": [
      "01:59:41.891 | INFO | *** new pickhardt payment ***\n",
      "01:59:41.893 | INFO | Executing Payment...\n",
      "01:59:41.894 | INFO | SUMMARY:\n",
      "01:59:41.895 | INFO | ========\n",
      "01:59:41.895 | INFO | Rounds of mcf-computations:\t  1\n",
      "01:59:41.896 | INFO | Number of attempts made:\t\t  1\n",
      "01:59:41.896 | INFO | Number of failed attempts:\t  0\n",
      "01:59:41.896 | INFO | Failure rate: 0.00% \n",
      "01:59:41.897 | INFO | total Payment lifetime (including inefficient memory management): 0.003 sec\n",
      "01:59:41.897 | INFO | Learnt entropy:  0.52 bits\n",
      "01:59:41.897 | INFO | fee for settlement of delivery:    0.000 sat --> 0 ppm\n",
      "01:59:41.898 | INFO | used mu: 0\n",
      "01:59:41.898 | INFO | Payment was successful: True\n",
      "01:59:41.899 | INFO | *** new pickhardt payment ***\n",
      "01:59:41.901 | INFO | Executing Payment...\n",
      "01:59:41.902 | INFO | SUMMARY:\n",
      "01:59:41.902 | INFO | ========\n",
      "01:59:41.902 | INFO | Rounds of mcf-computations:\t  1\n",
      "01:59:41.903 | INFO | Number of attempts made:\t\t  1\n",
      "01:59:41.903 | INFO | Number of failed attempts:\t  0\n",
      "01:59:41.903 | INFO | Failure rate: 0.00% \n",
      "01:59:41.904 | INFO | total Payment lifetime (including inefficient memory management): 0.003 sec\n",
      "01:59:41.904 | INFO | Learnt entropy:  0.00 bits\n",
      "01:59:41.904 | INFO | fee for settlement of delivery:    0.000 sat --> 0 ppm\n",
      "01:59:41.905 | INFO | used mu: 0\n",
      "01:59:41.905 | INFO | Payment was successful: True\n",
      "01:59:41.905 | INFO | *** new pickhardt payment ***\n",
      "01:59:41.909 | INFO | Executing Payment...\n",
      "01:59:41.910 | INFO | SUMMARY:\n",
      "01:59:41.910 | INFO | ========\n",
      "01:59:41.911 | INFO | Rounds of mcf-computations:\t  1\n",
      "01:59:41.911 | INFO | Number of attempts made:\t\t  1\n",
      "01:59:41.911 | INFO | Number of failed attempts:\t  0\n",
      "01:59:41.912 | INFO | Failure rate: 0.00% \n",
      "01:59:41.913 | INFO | total Payment lifetime (including inefficient memory management): 0.004 sec\n",
      "01:59:41.913 | INFO | Learnt entropy:  0.00 bits\n",
      "01:59:41.914 | INFO | fee for settlement of delivery:    0.000 sat --> 0 ppm\n",
      "01:59:41.914 | INFO | used mu: 0\n",
      "01:59:41.914 | INFO | Payment was successful: True\n"
     ]
    }
   ],
   "source": [
    "for payment in payment_set:\n",
    "    c += 1\n",
    "    # create new payment session\n",
    "    # sim_session = SyncSimulatedPaymentSession(oracle_lightning_network, uncertainty_network, prune_network=False)\n",
    "    # we need to make sure we forget all learnt information on the Uncertainty Network\n",
    "    # sim_session.forget_information()\n",
    "    ret = sim_session.pickhardt_pay(payment[\"sender\"], payment[\"receiver\"], payment[\"amount\"],\n",
    "                                    mu=0, base=0, loglevel=\"debug\")\n",
    "    if ret > 0:\n",
    "        successful_payments += 1\n",
    "    if ret < 0:\n",
    "        failed_payments += 1\n",
    "    payment['success'] = ret\n",
    "    payment_simulation.append(payment)"
   ],
   "metadata": {
    "collapsed": false,
    "pycharm": {
     "name": "#%%\n"
    }
   }
  },
  {
   "cell_type": "code",
   "execution_count": 545,
   "outputs": [
    {
     "name": "stdout",
     "output_type": "stream",
     "text": [
      "\n",
      "3 payments. 3 successful, 0 failed.\n"
     ]
    }
   ],
   "source": [
    "print(f\"\\n{c} payments. {successful_payments} successful, {failed_payments} failed.\")"
   ],
   "metadata": {
    "collapsed": false,
    "pycharm": {
     "name": "#%%\n"
    }
   }
  },
  {
   "cell_type": "code",
   "execution_count": 546,
   "outputs": [
    {
     "name": "stdout",
     "output_type": "stream",
     "text": [
      "{'A': 207500.0, 'B': 407500.0, 'C': 155000.0, 'D': 55000.0}\n"
     ]
    }
   ],
   "source": [
    "source_post = {}\n",
    "for channel in oracle_lightning_network.network.edges:\n",
    "    if channel[0] not in source_post.keys():\n",
    "        source_post[channel[0]] = oracle_lightning_network.get_channel(channel[0], channel[1], channel[2]).actual_liquidity\n",
    "    else:\n",
    "        source_post[channel[0]] += oracle_lightning_network.get_channel(channel[0], channel[1], channel[2]).actual_liquidity\n",
    "print(source_post)"
   ],
   "metadata": {
    "collapsed": false,
    "pycharm": {
     "name": "#%%\n"
    }
   }
  },
  {
   "cell_type": "markdown",
   "source": [
    "## Display change in outbound liquidity"
   ],
   "metadata": {
    "collapsed": false,
    "pycharm": {
     "name": "#%% md\n"
    }
   }
  },
  {
   "cell_type": "code",
   "execution_count": 547,
   "outputs": [
    {
     "name": "stdout",
     "output_type": "stream",
     "text": [
      "A 0.0\n",
      "B 150000.0\n",
      "C 0.0\n",
      "D -150000.0\n"
     ]
    }
   ],
   "source": [
    "for key in source_pre:\n",
    "    print(key, source_post[key] - source_pre[key])"
   ],
   "metadata": {
    "collapsed": false,
    "pycharm": {
     "name": "#%%\n"
    }
   }
  },
  {
   "cell_type": "markdown",
   "source": [
    "## Display channel capacities and their change from before and after as well\n",
    "## as intervals in Uncertainty Network"
   ],
   "metadata": {
    "collapsed": false,
    "pycharm": {
     "name": "#%% md\n"
    }
   }
  },
  {
   "cell_type": "code",
   "execution_count": 548,
   "outputs": [
    {
     "name": "stdout",
     "output_type": "stream",
     "text": [
      "A-B (capacity 105000):    52500 to    52500. Intervall [       0;   105000]\n",
      "A-C (capacity 205000):   102500 to   102500. Intervall [       0;   205000]\n",
      "A-D (capacity 105000):    52500 to    52500. Intervall [       0;   105000]\n",
      "B-A (capacity 105000):    52500 to    52500. Intervall [       0;   105000]\n",
      "B-C (capacity 105000):    52500 to    52500. Intervall [       0;   105000]\n",
      "B-D (capacity 305000):   152500 to   302500. Intervall [       0;   255000]\n",
      "C-B (capacity 105000):    52500 to    52500. Intervall [       0;   105000]\n",
      "C-A (capacity 205000):   102500 to   102500. Intervall [       0;   205000]\n",
      "D-A (capacity 105000):    52500 to    52500. Intervall [       0;   105000]\n",
      "D-B (capacity 305000):   152500 to     2500. Intervall [   50000;   305000]\n"
     ]
    }
   ],
   "source": [
    "for edge in oracle_lightning_network.network.edges:\n",
    "    channel_init = oracle_lightning_network_prior.get_channel(edge[0], edge[1], edge[2])\n",
    "    channel_now = oracle_lightning_network.get_channel(edge[0], edge[1], edge[2])\n",
    "    print(f\"{edge[0]}-{edge[1]} (capacity {channel_init.capacity}): {channel_init.actual_liquidity:>8.0f} to {channel_now.actual_liquidity:>8.0f}. \"\n",
    "          f\"Intervall [{uncertainty_network.get_channel(edge[0], edge[1], edge[2]).min_liquidity:>8}; \"\n",
    "          f\"{uncertainty_network.get_channel(edge[0], edge[1], edge[2]).max_liquidity:>8}]\")"
   ],
   "metadata": {
    "collapsed": false,
    "pycharm": {
     "name": "#%%\n"
    }
   }
  },
  {
   "cell_type": "markdown",
   "source": [
    "## is final liquidity of channel within range of uncertainty network estimate?"
   ],
   "metadata": {
    "collapsed": false,
    "pycharm": {
     "name": "#%% md\n"
    }
   }
  },
  {
   "cell_type": "code",
   "execution_count": 549,
   "outputs": [
    {
     "name": "stdout",
     "output_type": "stream",
     "text": [
      "channel A-B is ok\n",
      "channel A-C is ok\n",
      "channel A-D is ok\n",
      "channel B-A is ok\n",
      "channel B-C is ok\n",
      "PROBLEM in channel B-D. liq: 302500.0, min: 0, max: 255000\n",
      "channel C-B is ok\n",
      "channel C-A is ok\n",
      "channel D-A is ok\n",
      "PROBLEM in channel D-B. liq: 2500.0, min: 50000, max: 305000\n"
     ]
    }
   ],
   "source": [
    "for edge in oracle_lightning_network.network.edges:\n",
    "    channel_init = oracle_lightning_network_prior.get_channel(edge[0], edge[1], edge[2])\n",
    "    channel_now = oracle_lightning_network.get_channel(edge[0], edge[1], edge[2])\n",
    "    uncertainty_channel_now = uncertainty_network.get_channel(edge[0], edge[1], edge[2])\n",
    "    if channel_now.actual_liquidity not in range(uncertainty_channel_now.min_liquidity, uncertainty_channel_now.max_liquidity):\n",
    "        print(f\"PROBLEM in channel {edge[0]}-{edge[1]}. liq: {channel_now.actual_liquidity}, min: {uncertainty_channel_now.min_liquidity}, max: {uncertainty_channel_now.max_liquidity}\")\n",
    "    else:\n",
    "        print(f\"channel {edge[0]}-{edge[1]} is ok\")"
   ],
   "metadata": {
    "collapsed": false,
    "pycharm": {
     "name": "#%%\n"
    }
   }
  },
  {
   "cell_type": "code",
   "execution_count": 538,
   "outputs": [],
   "source": [],
   "metadata": {
    "collapsed": false,
    "pycharm": {
     "name": "#%%\n"
    }
   }
  }
 ],
 "metadata": {
  "kernelspec": {
   "display_name": "Python 3",
   "language": "python",
   "name": "python3"
  },
  "language_info": {
   "codemirror_mode": {
    "name": "ipython",
    "version": 2
   },
   "file_extension": ".py",
   "mimetype": "text/x-python",
   "name": "python",
   "nbconvert_exporter": "python",
   "pygments_lexer": "ipython2",
   "version": "2.7.6"
  }
 },
 "nbformat": 4,
 "nbformat_minor": 0
}
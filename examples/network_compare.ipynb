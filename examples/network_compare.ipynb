{
 "cells": [
  {
   "cell_type": "code",
   "execution_count": 406,
   "metadata": {
    "collapsed": true,
    "pycharm": {
     "name": "#%%\n"
    }
   },
   "outputs": [],
   "source": [
    "from pickhardtpayments.ChannelGraph import ChannelGraph\n",
    "from pickhardtpayments.UncertaintyNetwork import UncertaintyNetwork\n",
    "from pickhardtpayments.OracleLightningNetwork import OracleLightningNetwork\n",
    "from pickhardtpayments.SyncSimulatedPaymentSession import SyncSimulatedPaymentSession\n",
    "\n",
    "import ndjson"
   ]
  },
  {
   "cell_type": "code",
   "execution_count": 407,
   "outputs": [],
   "source": [
    "channel_graph = ChannelGraph(\"../channels.sample.json\")\n",
    "uncertainty_network = UncertaintyNetwork(channel_graph)\n",
    "oracle_lightning_network = OracleLightningNetwork(channel_graph)\n",
    "oracle_lightning_network_prior = OracleLightningNetwork(channel_graph)"
   ],
   "metadata": {
    "collapsed": false,
    "pycharm": {
     "name": "#%%\n"
    }
   }
  },
  {
   "cell_type": "code",
   "execution_count": 408,
   "outputs": [
    {
     "name": "stdout",
     "output_type": "stream",
     "text": [
      "{'A': 207500.0, 'B': 257500.0, 'C': 155000.0, 'D': 205000.0}\n"
     ]
    }
   ],
   "source": [
    "source_pre = {}\n",
    "for channel in oracle_lightning_network.network.edges:\n",
    "    if channel[0] not in source_pre.keys():\n",
    "        source_pre[channel[0]] = oracle_lightning_network.get_channel(channel[0], channel[1], channel[2]).actual_liquidity\n",
    "    else:\n",
    "        source_pre[channel[0]] += oracle_lightning_network.get_channel(channel[0], channel[1], channel[2]).actual_liquidity\n",
    "print(source_pre)"
   ],
   "metadata": {
    "collapsed": false,
    "pycharm": {
     "name": "#%%\n"
    }
   }
  },
  {
   "cell_type": "code",
   "execution_count": 409,
   "outputs": [],
   "source": [
    "payment_set = ndjson.load(open(\"./same_payments_small_graph.ndjson\", \"r\"))"
   ],
   "metadata": {
    "collapsed": false,
    "pycharm": {
     "name": "#%%\n"
    }
   }
  },
  {
   "cell_type": "code",
   "execution_count": 410,
   "outputs": [],
   "source": [
    "# init simulation\n",
    "c = 0\n",
    "successful_payments = 0\n",
    "failed_payments = 0\n",
    "payment_simulation = []\n",
    "\n",
    "# create new payment session - will later be moved before payment loop to simulate sequence of payments\n",
    "sim_session = SyncSimulatedPaymentSession(oracle_lightning_network, uncertainty_network, prune_network=False)"
   ],
   "metadata": {
    "collapsed": false,
    "pycharm": {
     "name": "#%%\n"
    }
   }
  },
  {
   "cell_type": "code",
   "execution_count": 411,
   "outputs": [
    {
     "name": "stdout",
     "output_type": "stream",
     "text": [
      "01:43:02.065 | INFO | *** new pickhardt payment ***\n",
      "01:43:02.068 | INFO | Executing Payment...\n",
      "01:43:02.069 | INFO | SUMMARY:\n",
      "01:43:02.070 | INFO | ========\n",
      "01:43:02.070 | INFO | Rounds of mcf-computations:\t  1\n",
      "01:43:02.071 | INFO | Number of attempts made:\t\t  1\n",
      "01:43:02.071 | INFO | Number of failed attempts:\t  0\n",
      "01:43:02.071 | INFO | Failure rate: 0.00% \n",
      "01:43:02.072 | INFO | total Payment lifetime (including inefficient memory management): 0.003 sec\n",
      "01:43:02.072 | INFO | Learnt entropy:  0.52 bits\n",
      "01:43:02.073 | INFO | fee for settlement of delivery:    0.000 sat --> 0 ppm\n",
      "01:43:02.073 | INFO | used mu: 0\n",
      "01:43:02.074 | INFO | Payment was successful: True\n",
      "01:43:02.074 | INFO | *** new pickhardt payment ***\n",
      "01:43:02.079 | INFO | Executing Payment...\n",
      "01:43:02.080 | INFO | SUMMARY:\n",
      "01:43:02.080 | INFO | ========\n",
      "01:43:02.080 | INFO | Rounds of mcf-computations:\t  1\n",
      "01:43:02.080 | INFO | Number of attempts made:\t\t  1\n",
      "01:43:02.081 | INFO | Number of failed attempts:\t  0\n",
      "01:43:02.081 | INFO | Failure rate: 0.00% \n",
      "01:43:02.082 | INFO | total Payment lifetime (including inefficient memory management): 0.005 sec\n",
      "01:43:02.082 | INFO | Learnt entropy:  0.00 bits\n",
      "01:43:02.083 | INFO | fee for settlement of delivery:    0.000 sat --> 0 ppm\n",
      "01:43:02.083 | INFO | used mu: 0\n",
      "01:43:02.083 | INFO | Payment was successful: True\n",
      "01:43:02.084 | INFO | *** new pickhardt payment ***\n",
      "01:43:02.086 | INFO | Executing Payment...\n",
      "01:43:02.088 | INFO | SUMMARY:\n",
      "01:43:02.088 | INFO | ========\n",
      "01:43:02.089 | INFO | Rounds of mcf-computations:\t  1\n",
      "01:43:02.089 | INFO | Number of attempts made:\t\t  1\n",
      "01:43:02.089 | INFO | Number of failed attempts:\t  0\n",
      "01:43:02.090 | INFO | Failure rate: 0.00% \n",
      "01:43:02.090 | INFO | total Payment lifetime (including inefficient memory management): 0.004 sec\n",
      "01:43:02.091 | INFO | Learnt entropy:  0.00 bits\n",
      "01:43:02.091 | INFO | fee for settlement of delivery:    0.000 sat --> 0 ppm\n",
      "01:43:02.091 | INFO | used mu: 0\n",
      "01:43:02.092 | INFO | Payment was successful: True\n",
      "01:43:02.092 | INFO | *** new pickhardt payment ***\n",
      "01:43:02.105 | INFO | Payment failed!\n",
      "01:43:02.106 | INFO | residual amount:     50,000 sats\n",
      "01:43:02.106 | INFO | SUMMARY:\n",
      "01:43:02.106 | INFO | ========\n",
      "01:43:02.107 | INFO | Rounds of mcf-computations:\t 16\n",
      "01:43:02.107 | INFO | Number of attempts made:\t\t 16\n",
      "01:43:02.107 | INFO | Number of failed attempts:\t 16\n",
      "01:43:02.107 | INFO | Failure rate: 100.00% \n",
      "01:43:02.108 | INFO | total Payment lifetime (including inefficient memory management): 0.015 sec\n",
      "01:43:02.108 | INFO | Learnt entropy: 35.92 bits\n",
      "01:43:02.109 | INFO | fee for settlement of delivery:    0.000 sat --> 0 ppm\n",
      "01:43:02.109 | INFO | used mu: 0\n",
      "01:43:02.109 | INFO | Payment was successful: False\n",
      "01:43:02.110 | INFO | *** new pickhardt payment ***\n",
      "01:43:02.123 | INFO | Payment failed!\n",
      "01:43:02.123 | INFO | residual amount:     50,000 sats\n",
      "01:43:02.123 | INFO | SUMMARY:\n",
      "01:43:02.124 | INFO | ========\n",
      "01:43:02.124 | INFO | Rounds of mcf-computations:\t 16\n",
      "01:43:02.124 | INFO | Number of attempts made:\t\t 16\n",
      "01:43:02.125 | INFO | Number of failed attempts:\t 16\n",
      "01:43:02.125 | INFO | Failure rate: 100.00% \n",
      "01:43:02.125 | INFO | total Payment lifetime (including inefficient memory management): 0.016 sec\n",
      "01:43:02.126 | INFO | Learnt entropy:  0.00 bits\n",
      "01:43:02.126 | INFO | fee for settlement of delivery:    0.000 sat --> 0 ppm\n",
      "01:43:02.126 | INFO | used mu: 0\n",
      "01:43:02.127 | INFO | Payment was successful: False\n",
      "01:43:02.127 | INFO | *** new pickhardt payment ***\n",
      "01:43:02.138 | INFO | Payment failed!\n",
      "01:43:02.138 | INFO | residual amount:     50,000 sats\n",
      "01:43:02.138 | INFO | SUMMARY:\n",
      "01:43:02.139 | INFO | ========\n",
      "01:43:02.139 | INFO | Rounds of mcf-computations:\t 16\n",
      "01:43:02.139 | INFO | Number of attempts made:\t\t 16\n",
      "01:43:02.140 | INFO | Number of failed attempts:\t 16\n",
      "01:43:02.140 | INFO | Failure rate: 100.00% \n",
      "01:43:02.141 | INFO | total Payment lifetime (including inefficient memory management): 0.013 sec\n",
      "01:43:02.141 | INFO | Learnt entropy:  0.00 bits\n",
      "01:43:02.142 | INFO | fee for settlement of delivery:    0.000 sat --> 0 ppm\n",
      "01:43:02.142 | INFO | used mu: 0\n",
      "01:43:02.142 | INFO | Payment was successful: False\n"
     ]
    }
   ],
   "source": [
    "for payment in payment_set:\n",
    "    c += 1\n",
    "    # create new payment session\n",
    "    # sim_session = SyncSimulatedPaymentSession(oracle_lightning_network, uncertainty_network, prune_network=False)\n",
    "    # we need to make sure we forget all learnt information on the Uncertainty Network\n",
    "    # sim_session.forget_information()\n",
    "    ret = sim_session.pickhardt_pay(payment[\"sender\"], payment[\"receiver\"], payment[\"amount\"],\n",
    "                                    mu=0, base=0, loglevel=\"debug\")\n",
    "    if ret > 0:\n",
    "        successful_payments += 1\n",
    "    if ret < 0:\n",
    "        failed_payments += 1\n",
    "    payment['success'] = ret\n",
    "    payment_simulation.append(payment)"
   ],
   "metadata": {
    "collapsed": false,
    "pycharm": {
     "name": "#%%\n"
    }
   }
  },
  {
   "cell_type": "code",
   "execution_count": 412,
   "outputs": [
    {
     "name": "stdout",
     "output_type": "stream",
     "text": [
      "\n",
      "6 payments. 3 successful, 3 failed.\n"
     ]
    }
   ],
   "source": [
    "print(f\"\\n{c} payments. {successful_payments} successful, {failed_payments} failed.\")"
   ],
   "metadata": {
    "collapsed": false,
    "pycharm": {
     "name": "#%%\n"
    }
   }
  },
  {
   "cell_type": "code",
   "execution_count": 413,
   "outputs": [
    {
     "name": "stdout",
     "output_type": "stream",
     "text": [
      "{'A': 207500.0, 'B': 407500.0, 'C': 155000.0, 'D': 55000.0}\n"
     ]
    }
   ],
   "source": [
    "source_post = {}\n",
    "for channel in oracle_lightning_network.network.edges:\n",
    "    if channel[0] not in source_post.keys():\n",
    "        source_post[channel[0]] = oracle_lightning_network.get_channel(channel[0], channel[1], channel[2]).actual_liquidity\n",
    "    else:\n",
    "        source_post[channel[0]] += oracle_lightning_network.get_channel(channel[0], channel[1], channel[2]).actual_liquidity\n",
    "print(source_post)"
   ],
   "metadata": {
    "collapsed": false,
    "pycharm": {
     "name": "#%%\n"
    }
   }
  },
  {
   "cell_type": "markdown",
   "source": [
    "## Display change in outbound liquidity"
   ],
   "metadata": {
    "collapsed": false,
    "pycharm": {
     "name": "#%% md\n"
    }
   }
  },
  {
   "cell_type": "code",
   "execution_count": 414,
   "outputs": [
    {
     "name": "stdout",
     "output_type": "stream",
     "text": [
      "A 0.0\n",
      "B 150000.0\n",
      "C 0.0\n",
      "D -150000.0\n"
     ]
    }
   ],
   "source": [
    "for key in source_pre:\n",
    "    print(key, source_post[key] - source_pre[key])"
   ],
   "metadata": {
    "collapsed": false,
    "pycharm": {
     "name": "#%%\n"
    }
   }
  },
  {
   "cell_type": "markdown",
   "source": [
    "## Display channel capacities and their change from before and after as well\n",
    "## as intervals in Uncertainty Network"
   ],
   "metadata": {
    "collapsed": false,
    "pycharm": {
     "name": "#%% md\n"
    }
   }
  },
  {
   "cell_type": "code",
   "execution_count": 415,
   "outputs": [
    {
     "name": "stdout",
     "output_type": "stream",
     "text": [
      "A-B (capacity 105000):    52500 to    52500. Intervall [       0;   105000]\n",
      "A-C (capacity 205000):   102500 to   102500. Intervall [       0;   205000]\n",
      "A-D (capacity 105000):    52500 to    52500. Intervall [       0;   105000]\n",
      "B-A (capacity 105000):    52500 to    52500. Intervall [       0;   105000]\n",
      "B-C (capacity 105000):    52500 to    52500. Intervall [       0;   105000]\n",
      "B-D (capacity 305000):   152500 to   302500. Intervall [  255000;   255000]\n",
      "C-B (capacity 105000):    52500 to    52500. Intervall [       0;   105000]\n",
      "C-A (capacity 205000):   102500 to   102500. Intervall [       0;   205000]\n",
      "D-A (capacity 105000):    52500 to    52500. Intervall [       0;   105000]\n",
      "D-B (capacity 305000):   152500 to     2500. Intervall [   50000;    50000]\n"
     ]
    }
   ],
   "source": [
    "for edge in oracle_lightning_network.network.edges:\n",
    "    channel_init = oracle_lightning_network_prior.get_channel(edge[0], edge[1], edge[2])\n",
    "    channel_now = oracle_lightning_network.get_channel(edge[0], edge[1], edge[2])\n",
    "    print(f\"{edge[0]}-{edge[1]} (capacity {channel_init.capacity}): {channel_init.actual_liquidity:>8.0f} to {channel_now.actual_liquidity:>8.0f}. \"\n",
    "          f\"Intervall [{uncertainty_network.get_channel(edge[0], edge[1], edge[2]).min_liquidity:>8}; \"\n",
    "          f\"{uncertainty_network.get_channel(edge[0], edge[1], edge[2]).max_liquidity:>8}]\")"
   ],
   "metadata": {
    "collapsed": false,
    "pycharm": {
     "name": "#%%\n"
    }
   }
  },
  {
   "cell_type": "markdown",
   "source": [
    "## is final liquidity of channel within range of uncertainty network estimate?"
   ],
   "metadata": {
    "collapsed": false,
    "pycharm": {
     "name": "#%% md\n"
    }
   }
  },
  {
   "cell_type": "code",
   "execution_count": 416,
   "outputs": [
    {
     "name": "stdout",
     "output_type": "stream",
     "text": [
      "channel A-B is ok\n",
      "channel A-C is ok\n",
      "channel A-D is ok\n",
      "channel B-A is ok\n",
      "channel B-C is ok\n",
      "PROBLEM in channel B-D\n",
      "channel C-B is ok\n",
      "channel C-A is ok\n",
      "channel D-A is ok\n",
      "PROBLEM in channel D-B\n"
     ]
    }
   ],
   "source": [
    "for edge in oracle_lightning_network.network.edges:\n",
    "    channel_init = oracle_lightning_network_prior.get_channel(edge[0], edge[1], edge[2])\n",
    "    channel_now = oracle_lightning_network.get_channel(edge[0], edge[1], edge[2])\n",
    "    if channel_now.actual_liquidity not in range(uncertainty_network.get_channel(edge[0], edge[1], edge[2]).min_liquidity, uncertainty_network.get_channel(edge[0], edge[1], edge[2]).max_liquidity):\n",
    "        print(f\"PROBLEM in channel {edge[0]}-{edge[1]}\")\n",
    "    else:\n",
    "        print(f\"channel {edge[0]}-{edge[1]} is ok\")"
   ],
   "metadata": {
    "collapsed": false,
    "pycharm": {
     "name": "#%%\n"
    }
   }
  },
  {
   "cell_type": "code",
   "execution_count": 405,
   "outputs": [],
   "source": [],
   "metadata": {
    "collapsed": false,
    "pycharm": {
     "name": "#%%\n"
    }
   }
  }
 ],
 "metadata": {
  "kernelspec": {
   "display_name": "Python 3",
   "language": "python",
   "name": "python3"
  },
  "language_info": {
   "codemirror_mode": {
    "name": "ipython",
    "version": 2
   },
   "file_extension": ".py",
   "mimetype": "text/x-python",
   "name": "python",
   "nbconvert_exporter": "python",
   "pygments_lexer": "ipython2",
   "version": "2.7.6"
  }
 },
 "nbformat": 4,
 "nbformat_minor": 0
}
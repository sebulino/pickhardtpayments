{
 "cells": [
  {
   "cell_type": "code",
   "execution_count": 82,
   "metadata": {
    "collapsed": true,
    "pycharm": {
     "name": "#%%\n"
    }
   },
   "outputs": [],
   "source": [
    "from pickhardtpayments.Payment import logger\n",
    "from pickhardtpayments.ChannelGraph import ChannelGraph\n",
    "from pickhardtpayments.UncertaintyNetwork import UncertaintyNetwork\n",
    "from pickhardtpayments.OracleLightningNetwork import OracleLightningNetwork\n",
    "from pickhardtpayments.SyncSimulatedPaymentSession import SyncSimulatedPaymentSession\n",
    "import networkx as nx\n",
    "import ndjson\n",
    "import json"
   ]
  },
  {
   "cell_type": "code",
   "execution_count": 83,
   "outputs": [],
   "source": [
    "channel_graph = ChannelGraph(\"../channels.sample.json\")\n",
    "uncertainty_network = UncertaintyNetwork(channel_graph)\n",
    "oracle_lightning_network = OracleLightningNetwork(channel_graph)"
   ],
   "metadata": {
    "collapsed": false,
    "pycharm": {
     "name": "#%%\n"
    }
   }
  },
  {
   "cell_type": "code",
   "execution_count": 84,
   "outputs": [],
   "source": [
    "payment_set = ndjson.load(open(\"./payments_small_graph.ndjson\", \"r\"))"
   ],
   "metadata": {
    "collapsed": false,
    "pycharm": {
     "name": "#%%\n"
    }
   }
  },
  {
   "cell_type": "code",
   "execution_count": 85,
   "outputs": [],
   "source": [
    "# init simulation\n",
    "c = 0\n",
    "successful_payments = 0\n",
    "failed_payments = 0\n",
    "payment_simulation = []\n",
    "\n",
    "# create new payment session - will later be moved before payment loop to simulate sequence of payments\n",
    "sim_session = SyncSimulatedPaymentSession(oracle_lightning_network, uncertainty_network, prune_network=False)"
   ],
   "metadata": {
    "collapsed": false,
    "pycharm": {
     "name": "#%%\n"
    }
   }
  },
  {
   "cell_type": "code",
   "execution_count": 86,
   "outputs": [],
   "source": [
    "for payment in payment_set:\n",
    "    c += 1\n",
    "    # create new payment session\n",
    "    # sim_session = SyncSimulatedPaymentSession(oracle_lightning_network, uncertainty_network, prune_network=False)\n",
    "    # we need to make sure we forget all learnt information on the Uncertainty Network\n",
    "    # sim_session.forget_information()\n",
    "    ret = sim_session.pickhardt_pay(payment[\"sender\"], payment[\"receiver\"], payment[\"amount\"],\n",
    "                                    mu=0, base=0, loglevel=\"warning\")\n",
    "    if ret > 0:\n",
    "        successful_payments += 1\n",
    "    if ret < 0:\n",
    "        failed_payments += 1\n",
    "    payment['success'] = ret\n",
    "    payment_simulation.append(payment)"
   ],
   "metadata": {
    "collapsed": false,
    "pycharm": {
     "name": "#%%\n"
    }
   }
  },
  {
   "cell_type": "code",
   "execution_count": 87,
   "outputs": [
    {
     "name": "stdout",
     "output_type": "stream",
     "text": [
      "\n",
      "20 payments. 17 successful, 3 failed.\n"
     ]
    }
   ],
   "source": [
    "print(f\"\\n{c} payments. {successful_payments} successful, {failed_payments} failed.\")"
   ],
   "metadata": {
    "collapsed": false,
    "pycharm": {
     "name": "#%%\n"
    }
   }
  },
  {
   "cell_type": "code",
   "execution_count": 88,
   "outputs": [],
   "source": [
    "oracle_lightning_network_prior = OracleLightningNetwork(channel_graph)"
   ],
   "metadata": {
    "collapsed": false,
    "pycharm": {
     "name": "#%%\n"
    }
   }
  },
  {
   "cell_type": "code",
   "execution_count": 89,
   "outputs": [
    {
     "name": "stdout",
     "output_type": "stream",
     "text": [
      "A-B:    52500 to    52500. Intervall [0; 105000]\n",
      "A-C:   102500 to    32500. Intervall [10000; 205000]\n",
      "A-D:    52500 to   102500. Intervall [95000; 95000]\n",
      "B-A:    52500 to    52500. Intervall [0; 105000]\n",
      "B-C:    52500 to   102500. Intervall [95000; 95000]\n",
      "B-D:   152500 to    92500. Intervall [10000; 295000]\n",
      "C-B:    52500 to     2500. Intervall [10000; 10000]\n",
      "C-A:   102500 to   172500. Intervall [0; 195000]\n",
      "D-A:    52500 to     2500. Intervall [10000; 10000]\n",
      "D-B:   152500 to   212500. Intervall [10000; 295000]\n"
     ]
    }
   ],
   "source": [
    "for edge in oracle_lightning_network.network.edges:\n",
    "    channel_init = oracle_lightning_network_prior.get_channel(edge[0], edge[1], edge[2])\n",
    "    channel_now = oracle_lightning_network.get_channel(edge[0], edge[1], edge[2])\n",
    "    print(f\"{edge[0]}-{edge[1]}: {channel_init.actual_liquidity:>8.0f} to {channel_now.actual_liquidity:>8.0f}. \"\n",
    "          f\"Intervall [{uncertainty_network.get_channel(edge[0], edge[1], edge[2]).min_liquidity}; \"\n",
    "          f\"{uncertainty_network.get_channel(edge[0], edge[1], edge[2]).max_liquidity}]\")"
   ],
   "metadata": {
    "collapsed": false,
    "pycharm": {
     "name": "#%%\n"
    }
   }
  },
  {
   "cell_type": "code",
   "execution_count": 89,
   "outputs": [],
   "source": [],
   "metadata": {
    "collapsed": false,
    "pycharm": {
     "name": "#%%\n"
    }
   }
  }
 ],
 "metadata": {
  "kernelspec": {
   "display_name": "Python 3",
   "language": "python",
   "name": "python3"
  },
  "language_info": {
   "codemirror_mode": {
    "name": "ipython",
    "version": 2
   },
   "file_extension": ".py",
   "mimetype": "text/x-python",
   "name": "python",
   "nbconvert_exporter": "python",
   "pygments_lexer": "ipython2",
   "version": "2.7.6"
  }
 },
 "nbformat": 4,
 "nbformat_minor": 0
}
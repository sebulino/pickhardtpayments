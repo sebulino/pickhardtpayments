{
 "cells": [
  {
   "cell_type": "code",
   "execution_count": 1,
   "metadata": {
    "collapsed": true,
    "pycharm": {
     "name": "#%%\n"
    }
   },
   "outputs": [],
   "source": [
    "from pickhardtpayments.ChannelGraph import ChannelGraph\n",
    "from pickhardtpayments.UncertaintyNetwork import UncertaintyNetwork\n",
    "from pickhardtpayments.OracleLightningNetwork import OracleLightningNetwork\n",
    "from pickhardtpayments.SyncSimulatedPaymentSession import SyncSimulatedPaymentSession\n",
    "\n",
    "import ndjson"
   ]
  },
  {
   "cell_type": "code",
   "execution_count": 2,
   "outputs": [],
   "source": [
    "channel_graph = ChannelGraph(\"../channels.sample.json\")\n",
    "uncertainty_network = UncertaintyNetwork(channel_graph)\n",
    "oracle_lightning_network = OracleLightningNetwork(channel_graph)\n",
    "oracle_lightning_network_prior = OracleLightningNetwork(channel_graph)"
   ],
   "metadata": {
    "collapsed": false,
    "pycharm": {
     "name": "#%%\n"
    }
   }
  },
  {
   "cell_type": "code",
   "execution_count": 3,
   "outputs": [
    {
     "name": "stdout",
     "output_type": "stream",
     "text": [
      "{'A': 207500.0, 'B': 257500.0, 'C': 155000.0, 'D': 205000.0}\n"
     ]
    }
   ],
   "source": [
    "source_pre = {}\n",
    "for channel in oracle_lightning_network.network.edges:\n",
    "    if channel[0] not in source_pre.keys():\n",
    "        source_pre[channel[0]] = oracle_lightning_network.get_channel(channel[0], channel[1], channel[2]).actual_liquidity\n",
    "    else:\n",
    "        source_pre[channel[0]] += oracle_lightning_network.get_channel(channel[0], channel[1], channel[2]).actual_liquidity\n",
    "print(source_pre)"
   ],
   "metadata": {
    "collapsed": false,
    "pycharm": {
     "name": "#%%\n"
    }
   }
  },
  {
   "cell_type": "code",
   "execution_count": 4,
   "outputs": [],
   "source": [
    "payment_set = ndjson.load(open(\"./same_payments_small_graph.ndjson\", \"r\"))"
   ],
   "metadata": {
    "collapsed": false,
    "pycharm": {
     "name": "#%%\n"
    }
   }
  },
  {
   "cell_type": "code",
   "execution_count": 5,
   "outputs": [],
   "source": [
    "# init simulation\n",
    "c = 0\n",
    "successful_payments = 0\n",
    "failed_payments = 0\n",
    "payment_simulation = []\n",
    "\n",
    "# create new payment session - will later be moved before payment loop to simulate sequence of payments\n",
    "sim_session = SyncSimulatedPaymentSession(oracle_lightning_network, uncertainty_network, prune_network=False)"
   ],
   "metadata": {
    "collapsed": false,
    "pycharm": {
     "name": "#%%\n"
    }
   }
  },
  {
   "cell_type": "code",
   "execution_count": 6,
   "outputs": [
    {
     "name": "stdout",
     "output_type": "stream",
     "text": [
      "16:27:20.729 | INFO | *** new pickhardt payment ***\n",
      "16:27:20.731 | INFO | log level is 10\n",
      "16:27:20.736 | WARNING | placed 0 as min and 245000 as max liquidity, while 60000 is inflight\n",
      "16:27:20.736 | WARNING | return_channel.min_liquidity 60000, return_channel.max_liquidity 305000\n",
      "16:27:20.741 | INFO | Executing Payment...\n",
      "16:27:20.743 | WARNING | inflights removed from uncertainty channel - 60000 sats.\n",
      "16:27:20.745 | INFO | SUMMARY:\n",
      "16:27:20.746 | INFO | ========\n",
      "16:27:20.747 | INFO | Rounds of mcf-computations:\t  1\n",
      "16:27:20.748 | INFO | Number of attempts made:\t\t  1\n",
      "16:27:20.749 | INFO | Number of failed attempts:\t  0\n",
      "16:27:20.750 | INFO | Failure rate: 0.00% \n",
      "16:27:20.751 | INFO | total Payment lifetime (including inefficient memory management): 0.011 sec\n",
      "16:27:20.751 | INFO | Learnt entropy:  0.63 bits\n",
      "16:27:20.753 | INFO | fee for settlement of delivery:    0.000 sat --> 0 ppm\n",
      "16:27:20.754 | INFO | used mu: 0\n",
      "16:27:20.755 | INFO | Payment was successful: True\n",
      "16:27:20.756 | INFO | *** new pickhardt payment ***\n",
      "16:27:20.757 | INFO | log level is 10\n",
      "16:27:20.767 | WARNING | placed 0 as min and 195000 as max liquidity, while 50000 is inflight\n",
      "16:27:20.770 | WARNING | return_channel.min_liquidity 110000, return_channel.max_liquidity 305000\n",
      "16:27:20.788 | INFO | Executing Payment...\n",
      "16:27:20.790 | WARNING | inflights removed from uncertainty channel - 50000 sats.\n",
      "16:27:20.791 | INFO | SUMMARY:\n",
      "16:27:20.792 | INFO | ========\n",
      "16:27:20.794 | INFO | Rounds of mcf-computations:\t  1\n",
      "16:27:20.795 | INFO | Number of attempts made:\t\t  1\n",
      "16:27:20.797 | INFO | Number of failed attempts:\t  0\n",
      "16:27:20.799 | INFO | Failure rate: 0.00% \n",
      "16:27:20.800 | INFO | total Payment lifetime (including inefficient memory management): 0.033 sec\n",
      "16:27:20.803 | INFO | Learnt entropy:  0.66 bits\n",
      "16:27:20.804 | INFO | fee for settlement of delivery:    0.000 sat --> 0 ppm\n",
      "16:27:20.804 | INFO | used mu: 0\n",
      "16:27:20.806 | INFO | Payment was successful: True\n",
      "16:27:20.808 | INFO | *** new pickhardt payment ***\n",
      "16:27:20.809 | INFO | log level is 10\n",
      "16:27:20.813 | WARNING | placed 0 as min and 155000 as max liquidity, while 40000 is inflight\n",
      "16:27:20.815 | WARNING | return_channel.min_liquidity 150000, return_channel.max_liquidity 305000\n",
      "16:27:20.820 | INFO | Executing Payment...\n",
      "16:27:20.822 | WARNING | inflights removed from uncertainty channel - 40000 sats.\n",
      "16:27:20.822 | INFO | SUMMARY:\n",
      "16:27:20.823 | INFO | ========\n",
      "16:27:20.824 | INFO | Rounds of mcf-computations:\t  1\n",
      "16:27:20.825 | INFO | Number of attempts made:\t\t  1\n",
      "16:27:20.828 | INFO | Number of failed attempts:\t  0\n",
      "16:27:20.828 | INFO | Failure rate: 0.00% \n",
      "16:27:20.829 | INFO | total Payment lifetime (including inefficient memory management): 0.012 sec\n",
      "16:27:20.829 | INFO | Learnt entropy:  0.66 bits\n",
      "16:27:20.830 | INFO | fee for settlement of delivery:    0.000 sat --> 0 ppm\n",
      "16:27:20.831 | INFO | used mu: 0\n",
      "16:27:20.831 | INFO | Payment was successful: True\n",
      "16:27:20.832 | INFO | *** new pickhardt payment ***\n",
      "16:27:20.834 | INFO | log level is 10\n",
      "16:27:20.858 | INFO | Payment failed!\n",
      "16:27:20.859 | INFO | residual amount:     60,000 sats\n",
      "16:27:20.860 | INFO | SUMMARY:\n",
      "16:27:20.864 | INFO | ========\n",
      "16:27:20.866 | INFO | Rounds of mcf-computations:\t 16\n",
      "16:27:20.866 | INFO | Number of attempts made:\t\t 16\n",
      "16:27:20.868 | INFO | Number of failed attempts:\t 16\n",
      "16:27:20.868 | INFO | Failure rate: 100.00% \n",
      "16:27:20.869 | INFO | total Payment lifetime (including inefficient memory management): 0.034 sec\n",
      "16:27:20.870 | INFO | Learnt entropy:  0.00 bits\n",
      "16:27:20.871 | INFO | fee for settlement of delivery:    0.000 sat --> 0 ppm\n",
      "16:27:20.871 | INFO | used mu: 0\n",
      "16:27:20.872 | INFO | Payment was successful: False\n",
      "16:27:20.873 | INFO | *** new pickhardt payment ***\n",
      "16:27:20.874 | INFO | log level is 10\n",
      "16:27:20.898 | INFO | Payment failed!\n",
      "16:27:20.898 | INFO | residual amount:     50,000 sats\n",
      "16:27:20.899 | INFO | SUMMARY:\n",
      "16:27:20.899 | INFO | ========\n",
      "16:27:20.899 | INFO | Rounds of mcf-computations:\t 16\n",
      "16:27:20.899 | INFO | Number of attempts made:\t\t 16\n",
      "16:27:20.900 | INFO | Number of failed attempts:\t 16\n",
      "16:27:20.900 | INFO | Failure rate: 100.00% \n",
      "16:27:20.900 | INFO | total Payment lifetime (including inefficient memory management): 0.025 sec\n",
      "16:27:20.900 | INFO | Learnt entropy:  0.00 bits\n",
      "16:27:20.901 | INFO | fee for settlement of delivery:    0.000 sat --> 0 ppm\n",
      "16:27:20.901 | INFO | used mu: 0\n",
      "16:27:20.902 | INFO | Payment was successful: False\n",
      "16:27:20.902 | INFO | *** new pickhardt payment ***\n",
      "16:27:20.902 | INFO | log level is 10\n",
      "16:27:20.915 | INFO | Payment failed!\n",
      "16:27:20.915 | INFO | residual amount:     40,000 sats\n",
      "16:27:20.915 | INFO | SUMMARY:\n",
      "16:27:20.916 | INFO | ========\n",
      "16:27:20.916 | INFO | Rounds of mcf-computations:\t 16\n",
      "16:27:20.916 | INFO | Number of attempts made:\t\t 16\n",
      "16:27:20.916 | INFO | Number of failed attempts:\t 16\n",
      "16:27:20.917 | INFO | Failure rate: 100.00% \n",
      "16:27:20.917 | INFO | total Payment lifetime (including inefficient memory management): 0.015 sec\n",
      "16:27:20.917 | INFO | Learnt entropy:  0.00 bits\n",
      "16:27:20.918 | INFO | fee for settlement of delivery:    0.000 sat --> 0 ppm\n",
      "16:27:20.918 | INFO | used mu: 0\n",
      "16:27:20.918 | INFO | Payment was successful: False\n",
      "16:27:20.919 | INFO | *** new pickhardt payment ***\n",
      "16:27:20.919 | INFO | log level is 10\n",
      "16:27:20.931 | INFO | Payment failed!\n",
      "16:27:20.931 | INFO | residual amount:     60,000 sats\n",
      "16:27:20.931 | INFO | SUMMARY:\n",
      "16:27:20.932 | INFO | ========\n",
      "16:27:20.932 | INFO | Rounds of mcf-computations:\t 16\n",
      "16:27:20.932 | INFO | Number of attempts made:\t\t 16\n",
      "16:27:20.933 | INFO | Number of failed attempts:\t 16\n",
      "16:27:20.933 | INFO | Failure rate: 100.00% \n",
      "16:27:20.933 | INFO | total Payment lifetime (including inefficient memory management): 0.014 sec\n",
      "16:27:20.934 | INFO | Learnt entropy:  0.00 bits\n",
      "16:27:20.934 | INFO | fee for settlement of delivery:    0.000 sat --> 0 ppm\n",
      "16:27:20.934 | INFO | used mu: 0\n",
      "16:27:20.935 | INFO | Payment was successful: False\n",
      "16:27:20.935 | INFO | *** new pickhardt payment ***\n",
      "16:27:20.936 | INFO | log level is 10\n",
      "16:27:20.950 | INFO | Payment failed!\n",
      "16:27:20.950 | INFO | residual amount:     40,000 sats\n",
      "16:27:20.950 | INFO | SUMMARY:\n",
      "16:27:20.951 | INFO | ========\n",
      "16:27:20.951 | INFO | Rounds of mcf-computations:\t 16\n",
      "16:27:20.951 | INFO | Number of attempts made:\t\t 16\n",
      "16:27:20.951 | INFO | Number of failed attempts:\t 16\n",
      "16:27:20.952 | INFO | Failure rate: 100.00% \n",
      "16:27:20.952 | INFO | total Payment lifetime (including inefficient memory management): 0.016 sec\n",
      "16:27:20.952 | INFO | Learnt entropy:  0.00 bits\n",
      "16:27:20.952 | INFO | fee for settlement of delivery:    0.000 sat --> 0 ppm\n",
      "16:27:20.953 | INFO | used mu: 0\n",
      "16:27:20.954 | INFO | Payment was successful: False\n",
      "16:27:20.954 | INFO | *** new pickhardt payment ***\n",
      "16:27:20.954 | INFO | log level is 10\n",
      "16:27:20.967 | INFO | Payment failed!\n",
      "16:27:20.967 | INFO | residual amount:     60,000 sats\n",
      "16:27:20.968 | INFO | SUMMARY:\n",
      "16:27:20.968 | INFO | ========\n",
      "16:27:20.968 | INFO | Rounds of mcf-computations:\t 16\n",
      "16:27:20.968 | INFO | Number of attempts made:\t\t 16\n",
      "16:27:20.968 | INFO | Number of failed attempts:\t 16\n",
      "16:27:20.969 | INFO | Failure rate: 100.00% \n",
      "16:27:20.969 | INFO | total Payment lifetime (including inefficient memory management): 0.014 sec\n",
      "16:27:20.969 | INFO | Learnt entropy:  0.00 bits\n",
      "16:27:20.969 | INFO | fee for settlement of delivery:    0.000 sat --> 0 ppm\n",
      "16:27:20.970 | INFO | used mu: 0\n",
      "16:27:20.970 | INFO | Payment was successful: False\n",
      "16:27:20.971 | INFO | *** new pickhardt payment ***\n",
      "16:27:20.971 | INFO | log level is 10\n",
      "16:27:20.983 | INFO | Payment failed!\n",
      "16:27:20.983 | INFO | residual amount:     50,000 sats\n",
      "16:27:20.983 | INFO | SUMMARY:\n",
      "16:27:20.983 | INFO | ========\n",
      "16:27:20.983 | INFO | Rounds of mcf-computations:\t 16\n",
      "16:27:20.984 | INFO | Number of attempts made:\t\t 16\n",
      "16:27:20.984 | INFO | Number of failed attempts:\t 16\n",
      "16:27:20.984 | INFO | Failure rate: 100.00% \n",
      "16:27:20.984 | INFO | total Payment lifetime (including inefficient memory management): 0.013 sec\n",
      "16:27:20.985 | INFO | Learnt entropy:  0.00 bits\n",
      "16:27:20.985 | INFO | fee for settlement of delivery:    0.000 sat --> 0 ppm\n",
      "16:27:20.985 | INFO | used mu: 0\n",
      "16:27:20.985 | INFO | Payment was successful: False\n",
      "16:27:20.986 | INFO | *** new pickhardt payment ***\n",
      "16:27:20.986 | INFO | log level is 10\n",
      "16:27:20.999 | INFO | Payment failed!\n",
      "16:27:20.999 | INFO | residual amount:     40,000 sats\n",
      "16:27:20.999 | INFO | SUMMARY:\n",
      "16:27:20.999 | INFO | ========\n",
      "16:27:21.000 | INFO | Rounds of mcf-computations:\t 16\n",
      "16:27:21.000 | INFO | Number of attempts made:\t\t 16\n",
      "16:27:21.000 | INFO | Number of failed attempts:\t 16\n",
      "16:27:21.000 | INFO | Failure rate: 100.00% \n",
      "16:27:21.001 | INFO | total Payment lifetime (including inefficient memory management): 0.014 sec\n",
      "16:27:21.001 | INFO | Learnt entropy:  0.00 bits\n",
      "16:27:21.001 | INFO | fee for settlement of delivery:    0.000 sat --> 0 ppm\n",
      "16:27:21.001 | INFO | used mu: 0\n",
      "16:27:21.001 | INFO | Payment was successful: False\n",
      "16:27:21.002 | INFO | *** new pickhardt payment ***\n",
      "16:27:21.002 | INFO | log level is 10\n",
      "16:27:21.015 | INFO | Payment failed!\n",
      "16:27:21.016 | INFO | residual amount:     60,000 sats\n",
      "16:27:21.016 | INFO | SUMMARY:\n",
      "16:27:21.016 | INFO | ========\n",
      "16:27:21.016 | INFO | Rounds of mcf-computations:\t 16\n",
      "16:27:21.016 | INFO | Number of attempts made:\t\t 16\n",
      "16:27:21.017 | INFO | Number of failed attempts:\t 16\n",
      "16:27:21.017 | INFO | Failure rate: 100.00% \n",
      "16:27:21.017 | INFO | total Payment lifetime (including inefficient memory management): 0.015 sec\n",
      "16:27:21.018 | INFO | Learnt entropy:  0.00 bits\n",
      "16:27:21.018 | INFO | fee for settlement of delivery:    0.000 sat --> 0 ppm\n",
      "16:27:21.018 | INFO | used mu: 0\n",
      "16:27:21.019 | INFO | Payment was successful: False\n"
     ]
    }
   ],
   "source": [
    "for payment in payment_set:\n",
    "    c += 1\n",
    "    # create new payment session\n",
    "    # sim_session = SyncSimulatedPaymentSession(oracle_lightning_network, uncertainty_network, prune_network=False)\n",
    "    # we need to make sure we forget all learnt information on the Uncertainty Network\n",
    "    # sim_session.forget_information()\n",
    "    ret = sim_session.pickhardt_pay(payment[\"sender\"], payment[\"receiver\"], payment[\"amount\"],\n",
    "                                    mu=0, base=0, loglevel=\"debug\")\n",
    "    if ret > 0:\n",
    "        successful_payments += 1\n",
    "    if ret < 0:\n",
    "        failed_payments += 1\n",
    "    payment['success'] = ret\n",
    "    payment_simulation.append(payment)"
   ],
   "metadata": {
    "collapsed": false,
    "pycharm": {
     "name": "#%%\n"
    }
   }
  },
  {
   "cell_type": "code",
   "execution_count": 7,
   "outputs": [
    {
     "name": "stdout",
     "output_type": "stream",
     "text": [
      "\n",
      "12 payments. 3 successful, 9 failed.\n"
     ]
    }
   ],
   "source": [
    "print(f\"\\n{c} payments. {successful_payments} successful, {failed_payments} failed.\")"
   ],
   "metadata": {
    "collapsed": false,
    "pycharm": {
     "name": "#%%\n"
    }
   }
  },
  {
   "cell_type": "code",
   "execution_count": 8,
   "outputs": [
    {
     "name": "stdout",
     "output_type": "stream",
     "text": [
      "{'A': 207500.0, 'B': 407500.0, 'C': 155000.0, 'D': 55000.0}\n"
     ]
    }
   ],
   "source": [
    "source_post = {}\n",
    "for channel in oracle_lightning_network.network.edges:\n",
    "    if channel[0] not in source_post.keys():\n",
    "        source_post[channel[0]] = oracle_lightning_network.get_channel(channel[0], channel[1], channel[2]).actual_liquidity\n",
    "    else:\n",
    "        source_post[channel[0]] += oracle_lightning_network.get_channel(channel[0], channel[1], channel[2]).actual_liquidity\n",
    "print(source_post)"
   ],
   "metadata": {
    "collapsed": false,
    "pycharm": {
     "name": "#%%\n"
    }
   }
  },
  {
   "cell_type": "markdown",
   "source": [
    "## Display change in outbound liquidity"
   ],
   "metadata": {
    "collapsed": false,
    "pycharm": {
     "name": "#%% md\n"
    }
   }
  },
  {
   "cell_type": "code",
   "execution_count": 9,
   "outputs": [
    {
     "name": "stdout",
     "output_type": "stream",
     "text": [
      "A 0.0\n",
      "B 150000.0\n",
      "C 0.0\n",
      "D -150000.0\n"
     ]
    }
   ],
   "source": [
    "for key in source_pre:\n",
    "    print(key, source_post[key] - source_pre[key])"
   ],
   "metadata": {
    "collapsed": false,
    "pycharm": {
     "name": "#%%\n"
    }
   }
  },
  {
   "cell_type": "markdown",
   "source": [
    "## Display channel capacities and their change from before and after as well\n",
    "## as intervals in Uncertainty Network"
   ],
   "metadata": {
    "collapsed": false,
    "pycharm": {
     "name": "#%% md\n"
    }
   }
  },
  {
   "cell_type": "code",
   "execution_count": 10,
   "outputs": [
    {
     "name": "stdout",
     "output_type": "stream",
     "text": [
      "A-B (capacity 105000):   52500 to   52500. Intervall [      0;  105000]. oracle i_f:       0, uncertainty i_f       0\n",
      "A-C (capacity 205000):  102500 to  102500. Intervall [      0;  205000]. oracle i_f:       0, uncertainty i_f       0\n",
      "A-D (capacity 105000):   52500 to   52500. Intervall [      0;  105000]. oracle i_f:       0, uncertainty i_f       0\n",
      "B-A (capacity 105000):   52500 to   52500. Intervall [      0;  105000]. oracle i_f:       0, uncertainty i_f       0\n",
      "B-C (capacity 105000):   52500 to   52500. Intervall [      0;  105000]. oracle i_f:       0, uncertainty i_f       0\n",
      "B-D (capacity 305000):  152500 to  302500. Intervall [ 150000;  305000]. oracle i_f:       0, uncertainty i_f       0\n",
      "C-B (capacity 105000):   52500 to   52500. Intervall [      0;  105000]. oracle i_f:       0, uncertainty i_f       0\n",
      "C-A (capacity 205000):  102500 to  102500. Intervall [      0;  205000]. oracle i_f:       0, uncertainty i_f       0\n",
      "D-A (capacity 105000):   52500 to   52500. Intervall [      0;  105000]. oracle i_f:       0, uncertainty i_f       0\n",
      "D-B (capacity 305000):  152500 to    2500. Intervall [      0;  155000]. oracle i_f:       0, uncertainty i_f       0\n"
     ]
    }
   ],
   "source": [
    "for edge in oracle_lightning_network.network.edges:\n",
    "    channel_init = oracle_lightning_network_prior.get_channel(edge[0], edge[1], edge[2])\n",
    "    channel_now = oracle_lightning_network.get_channel(edge[0], edge[1], edge[2])\n",
    "    uncertainty_channel_now = uncertainty_network.get_channel(edge[0], edge[1], edge[2])\n",
    "    print(f\"{edge[0]}-{edge[1]} (capacity {channel_init.capacity}): {channel_init.actual_liquidity:>7.0f} to {channel_now.actual_liquidity:>7.0f}. \"\n",
    "          f\"Intervall [{uncertainty_channel_now.min_liquidity:>7}; {uncertainty_channel_now.max_liquidity:>7}]. \"\n",
    "          f\"oracle i_f: {channel_now.in_flight:>7}, uncertainty i_f {uncertainty_channel_now.in_flight:>7}\")"
   ],
   "metadata": {
    "collapsed": false,
    "pycharm": {
     "name": "#%%\n"
    }
   }
  },
  {
   "cell_type": "markdown",
   "source": [
    "## is final liquidity of channel within range of uncertainty network estimate?"
   ],
   "metadata": {
    "collapsed": false,
    "pycharm": {
     "name": "#%% md\n"
    }
   }
  },
  {
   "cell_type": "code",
   "execution_count": 11,
   "outputs": [
    {
     "name": "stdout",
     "output_type": "stream",
     "text": [
      "channel A-B is ok\n",
      "channel A-C is ok\n",
      "channel A-D is ok\n",
      "channel B-A is ok\n",
      "channel B-C is ok\n",
      "channel B-D is ok\n",
      "channel C-B is ok\n",
      "channel C-A is ok\n",
      "channel D-A is ok\n",
      "channel D-B is ok\n"
     ]
    }
   ],
   "source": [
    "for edge in oracle_lightning_network.network.edges:\n",
    "    channel_init = oracle_lightning_network_prior.get_channel(edge[0], edge[1], edge[2])\n",
    "    channel_now = oracle_lightning_network.get_channel(edge[0], edge[1], edge[2])\n",
    "    uncertainty_channel_now = uncertainty_network.get_channel(edge[0], edge[1], edge[2])\n",
    "    if channel_now.actual_liquidity not in range(uncertainty_channel_now.min_liquidity, uncertainty_channel_now.max_liquidity):\n",
    "        print(f\"PROBLEM in channel {edge[0]}-{edge[1]}. liq: {channel_now.actual_liquidity}, min: {uncertainty_channel_now.min_liquidity}, max: {uncertainty_channel_now.max_liquidity}\")\n",
    "    else:\n",
    "        print(f\"channel {edge[0]}-{edge[1]} is ok\")"
   ],
   "metadata": {
    "collapsed": false,
    "pycharm": {
     "name": "#%%\n"
    }
   }
  },
  {
   "cell_type": "code",
   "execution_count": 11,
   "outputs": [],
   "source": [],
   "metadata": {
    "collapsed": false,
    "pycharm": {
     "name": "#%%\n"
    }
   }
  }
 ],
 "metadata": {
  "kernelspec": {
   "display_name": "Python 3",
   "language": "python",
   "name": "python3"
  },
  "language_info": {
   "codemirror_mode": {
    "name": "ipython",
    "version": 2
   },
   "file_extension": ".py",
   "mimetype": "text/x-python",
   "name": "python",
   "nbconvert_exporter": "python",
   "pygments_lexer": "ipython2",
   "version": "2.7.6"
  }
 },
 "nbformat": 4,
 "nbformat_minor": 0
}